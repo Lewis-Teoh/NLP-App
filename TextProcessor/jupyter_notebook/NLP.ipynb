{
 "cells": [
  {
   "cell_type": "code",
   "execution_count": null,
   "metadata": {
    "colab": {
     "base_uri": "https://localhost:8080/",
     "height": 1000
    },
    "colab_type": "code",
    "id": "eeDC51bIoCzM",
    "outputId": "6285351a-0103-432a-c5ed-5d865c536d59"
   },
   "outputs": [
    {
     "name": "stdout",
     "output_type": "stream",
     "text": [
      "Collecting spacy-transformers[cuda100]==0.5.1\n",
      "\u001b[?25l  Downloading https://files.pythonhosted.org/packages/16/fb/5dbcf7391d6ba0003fb922737340bff5033729f9c967f08f0468259c4f6a/spacy-transformers-0.5.1.tar.gz (59kB)\n",
      "\u001b[K     |████████████████████████████████| 61kB 3.4MB/s \n",
      "\u001b[?25hRequirement already satisfied: spacy<2.3.0,>=2.2.1 in /usr/local/lib/python3.6/dist-packages (from spacy-transformers[cuda100]==0.5.1) (2.2.4)\n",
      "Collecting transformers<2.1.0,>=2.0.0\n",
      "\u001b[?25l  Downloading https://files.pythonhosted.org/packages/66/99/ca0e4c35ccde7d290de3c9c236d5629d1879b04927e5ace9bd6d9183e236/transformers-2.0.0-py3-none-any.whl (290kB)\n",
      "\u001b[K     |████████████████████████████████| 296kB 14.9MB/s \n",
      "\u001b[?25hRequirement already satisfied: torch>=1.0.0 in /usr/local/lib/python3.6/dist-packages (from spacy-transformers[cuda100]==0.5.1) (1.5.0+cu101)\n",
      "Collecting torchcontrib<0.1.0,>=0.0.2\n",
      "  Downloading https://files.pythonhosted.org/packages/72/36/45d475035ab35353911e72a03c1c1210eba63b71e5a6917a9e78a046aa10/torchcontrib-0.0.2.tar.gz\n",
      "Requirement already satisfied: srsly<1.1.0,>=0.0.7 in /usr/local/lib/python3.6/dist-packages (from spacy-transformers[cuda100]==0.5.1) (1.0.2)\n",
      "Collecting ftfy<6.0.0,>=5.0.0\n",
      "\u001b[?25l  Downloading https://files.pythonhosted.org/packages/ec/d8/5e877ac5e827eaa41a7ea8c0dc1d3042e05d7e337604dc2aedb854e7b500/ftfy-5.7.tar.gz (58kB)\n",
      "\u001b[K     |████████████████████████████████| 61kB 7.3MB/s \n",
      "\u001b[?25hCollecting dataclasses<0.7,>=0.6\n",
      "  Downloading https://files.pythonhosted.org/packages/26/2f/1095cdc2868052dd1e64520f7c0d5c8c550ad297e944e641dbf1ffbb9a5d/dataclasses-0.6-py3-none-any.whl\n",
      "Requirement already satisfied: importlib_metadata>=0.20 in /usr/local/lib/python3.6/dist-packages (from spacy-transformers[cuda100]==0.5.1) (1.6.0)\n",
      "Collecting thinc_gpu_ops<0.1.0,>=0.0.1\n",
      "\u001b[?25l  Downloading https://files.pythonhosted.org/packages/a4/ad/11ab80a24bcedd7dd0cfabaedba2ceaeca11f1aaeeff432a3d2e63ca7d02/thinc_gpu_ops-0.0.4.tar.gz (483kB)\n",
      "\u001b[K     |████████████████████████████████| 491kB 19.0MB/s \n",
      "\u001b[?25hCollecting cupy-cuda100>=5.0.0b4\n",
      "\u001b[?25l  Downloading https://files.pythonhosted.org/packages/29/a2/7ba3f0d2c9997ec17790b9ac7e8244c3112bc3874aa1597d0413f9e96641/cupy_cuda100-8.0.0b3-cp36-cp36m-manylinux1_x86_64.whl (341.2MB)\n",
      "\u001b[K     |████████████████████████████████| 341.2MB 53kB/s \n",
      "\u001b[?25hRequirement already satisfied: requests<3.0.0,>=2.13.0 in /usr/local/lib/python3.6/dist-packages (from spacy<2.3.0,>=2.2.1->spacy-transformers[cuda100]==0.5.1) (2.23.0)\n",
      "Requirement already satisfied: thinc==7.4.0 in /usr/local/lib/python3.6/dist-packages (from spacy<2.3.0,>=2.2.1->spacy-transformers[cuda100]==0.5.1) (7.4.0)\n",
      "Requirement already satisfied: blis<0.5.0,>=0.4.0 in /usr/local/lib/python3.6/dist-packages (from spacy<2.3.0,>=2.2.1->spacy-transformers[cuda100]==0.5.1) (0.4.1)\n",
      "Requirement already satisfied: cymem<2.1.0,>=2.0.2 in /usr/local/lib/python3.6/dist-packages (from spacy<2.3.0,>=2.2.1->spacy-transformers[cuda100]==0.5.1) (2.0.3)\n",
      "Requirement already satisfied: murmurhash<1.1.0,>=0.28.0 in /usr/local/lib/python3.6/dist-packages (from spacy<2.3.0,>=2.2.1->spacy-transformers[cuda100]==0.5.1) (1.0.2)\n",
      "Requirement already satisfied: wasabi<1.1.0,>=0.4.0 in /usr/local/lib/python3.6/dist-packages (from spacy<2.3.0,>=2.2.1->spacy-transformers[cuda100]==0.5.1) (0.6.0)\n",
      "Requirement already satisfied: catalogue<1.1.0,>=0.0.7 in /usr/local/lib/python3.6/dist-packages (from spacy<2.3.0,>=2.2.1->spacy-transformers[cuda100]==0.5.1) (1.0.0)\n",
      "Requirement already satisfied: preshed<3.1.0,>=3.0.2 in /usr/local/lib/python3.6/dist-packages (from spacy<2.3.0,>=2.2.1->spacy-transformers[cuda100]==0.5.1) (3.0.2)\n",
      "Requirement already satisfied: plac<1.2.0,>=0.9.6 in /usr/local/lib/python3.6/dist-packages (from spacy<2.3.0,>=2.2.1->spacy-transformers[cuda100]==0.5.1) (1.1.3)\n",
      "Requirement already satisfied: tqdm<5.0.0,>=4.38.0 in /usr/local/lib/python3.6/dist-packages (from spacy<2.3.0,>=2.2.1->spacy-transformers[cuda100]==0.5.1) (4.41.1)\n",
      "Requirement already satisfied: numpy>=1.15.0 in /usr/local/lib/python3.6/dist-packages (from spacy<2.3.0,>=2.2.1->spacy-transformers[cuda100]==0.5.1) (1.18.4)\n",
      "Requirement already satisfied: setuptools in /usr/local/lib/python3.6/dist-packages (from spacy<2.3.0,>=2.2.1->spacy-transformers[cuda100]==0.5.1) (47.1.1)\n",
      "Collecting sentencepiece\n",
      "\u001b[?25l  Downloading https://files.pythonhosted.org/packages/d4/a4/d0a884c4300004a78cca907a6ff9a5e9fe4f090f5d95ab341c53d28cbc58/sentencepiece-0.1.91-cp36-cp36m-manylinux1_x86_64.whl (1.1MB)\n",
      "\u001b[K     |████████████████████████████████| 1.1MB 58.4MB/s \n",
      "\u001b[?25hCollecting sacremoses\n",
      "\u001b[?25l  Downloading https://files.pythonhosted.org/packages/7d/34/09d19aff26edcc8eb2a01bed8e98f13a1537005d31e95233fd48216eed10/sacremoses-0.0.43.tar.gz (883kB)\n",
      "\u001b[K     |████████████████████████████████| 890kB 48.3MB/s \n",
      "\u001b[?25hRequirement already satisfied: boto3 in /usr/local/lib/python3.6/dist-packages (from transformers<2.1.0,>=2.0.0->spacy-transformers[cuda100]==0.5.1) (1.13.13)\n",
      "Requirement already satisfied: regex in /usr/local/lib/python3.6/dist-packages (from transformers<2.1.0,>=2.0.0->spacy-transformers[cuda100]==0.5.1) (2019.12.20)\n",
      "Requirement already satisfied: future in /usr/local/lib/python3.6/dist-packages (from torch>=1.0.0->spacy-transformers[cuda100]==0.5.1) (0.16.0)\n",
      "Requirement already satisfied: wcwidth in /usr/local/lib/python3.6/dist-packages (from ftfy<6.0.0,>=5.0.0->spacy-transformers[cuda100]==0.5.1) (0.1.9)\n",
      "Requirement already satisfied: zipp>=0.5 in /usr/local/lib/python3.6/dist-packages (from importlib_metadata>=0.20->spacy-transformers[cuda100]==0.5.1) (3.1.0)\n",
      "Requirement already satisfied: fastrlock>=0.3 in /usr/local/lib/python3.6/dist-packages (from cupy-cuda100>=5.0.0b4->spacy-transformers[cuda100]==0.5.1) (0.4)\n",
      "Requirement already satisfied: chardet<4,>=3.0.2 in /usr/local/lib/python3.6/dist-packages (from requests<3.0.0,>=2.13.0->spacy<2.3.0,>=2.2.1->spacy-transformers[cuda100]==0.5.1) (3.0.4)\n",
      "Requirement already satisfied: urllib3!=1.25.0,!=1.25.1,<1.26,>=1.21.1 in /usr/local/lib/python3.6/dist-packages (from requests<3.0.0,>=2.13.0->spacy<2.3.0,>=2.2.1->spacy-transformers[cuda100]==0.5.1) (1.24.3)\n",
      "Requirement already satisfied: certifi>=2017.4.17 in /usr/local/lib/python3.6/dist-packages (from requests<3.0.0,>=2.13.0->spacy<2.3.0,>=2.2.1->spacy-transformers[cuda100]==0.5.1) (2020.4.5.1)\n",
      "Requirement already satisfied: idna<3,>=2.5 in /usr/local/lib/python3.6/dist-packages (from requests<3.0.0,>=2.13.0->spacy<2.3.0,>=2.2.1->spacy-transformers[cuda100]==0.5.1) (2.9)\n",
      "Requirement already satisfied: six in /usr/local/lib/python3.6/dist-packages (from sacremoses->transformers<2.1.0,>=2.0.0->spacy-transformers[cuda100]==0.5.1) (1.12.0)\n",
      "Requirement already satisfied: click in /usr/local/lib/python3.6/dist-packages (from sacremoses->transformers<2.1.0,>=2.0.0->spacy-transformers[cuda100]==0.5.1) (7.1.2)\n",
      "Requirement already satisfied: joblib in /usr/local/lib/python3.6/dist-packages (from sacremoses->transformers<2.1.0,>=2.0.0->spacy-transformers[cuda100]==0.5.1) (0.15.1)\n",
      "Requirement already satisfied: s3transfer<0.4.0,>=0.3.0 in /usr/local/lib/python3.6/dist-packages (from boto3->transformers<2.1.0,>=2.0.0->spacy-transformers[cuda100]==0.5.1) (0.3.3)\n",
      "Requirement already satisfied: botocore<1.17.0,>=1.16.13 in /usr/local/lib/python3.6/dist-packages (from boto3->transformers<2.1.0,>=2.0.0->spacy-transformers[cuda100]==0.5.1) (1.16.13)\n",
      "Requirement already satisfied: jmespath<1.0.0,>=0.7.1 in /usr/local/lib/python3.6/dist-packages (from boto3->transformers<2.1.0,>=2.0.0->spacy-transformers[cuda100]==0.5.1) (0.10.0)\n",
      "Requirement already satisfied: docutils<0.16,>=0.10 in /usr/local/lib/python3.6/dist-packages (from botocore<1.17.0,>=1.16.13->boto3->transformers<2.1.0,>=2.0.0->spacy-transformers[cuda100]==0.5.1) (0.15.2)\n",
      "Requirement already satisfied: python-dateutil<3.0.0,>=2.1 in /usr/local/lib/python3.6/dist-packages (from botocore<1.17.0,>=1.16.13->boto3->transformers<2.1.0,>=2.0.0->spacy-transformers[cuda100]==0.5.1) (2.8.1)\n",
      "Building wheels for collected packages: spacy-transformers, torchcontrib, ftfy, thinc-gpu-ops, sacremoses\n",
      "  Building wheel for spacy-transformers (setup.py) ... \u001b[?25l\u001b[?25hdone\n",
      "  Created wheel for spacy-transformers: filename=spacy_transformers-0.5.1-py2.py3-none-any.whl size=52835 sha256=db4684c85849ce9a69cf31c100abb9fef08b5cede142f18e2f4f4567f45aa4ee\n",
      "  Stored in directory: /root/.cache/pip/wheels/29/c2/17/625a3d14da8cabe9781ab1648d489d1b41a8a81dc289e5af1f\n",
      "  Building wheel for torchcontrib (setup.py) ... \u001b[?25l\u001b[?25hdone\n",
      "  Created wheel for torchcontrib: filename=torchcontrib-0.0.2-cp36-none-any.whl size=7533 sha256=be7a8c193004dffc36c1b3574a1f7343be5ce27d66e03bd4335b69b5a0d600f5\n",
      "  Stored in directory: /root/.cache/pip/wheels/06/06/7b/a5f5920bbf4f12a2c927e438fac17d4cd9560f8336b00e9a99\n",
      "  Building wheel for ftfy (setup.py) ... \u001b[?25l\u001b[?25hdone\n",
      "  Created wheel for ftfy: filename=ftfy-5.7-cp36-none-any.whl size=44593 sha256=7dc25dc92e3db925a0c7f199a40ff1bd91d6200603f15fe94e6d96f0260b4e1c\n",
      "  Stored in directory: /root/.cache/pip/wheels/8e/da/59/6c8925d571aacade638a0f515960c21c0887af1bfe31908fbf\n",
      "  Building wheel for thinc-gpu-ops (setup.py) ... \u001b[?25l\u001b[?25hdone\n",
      "  Created wheel for thinc-gpu-ops: filename=thinc_gpu_ops-0.0.4-cp36-cp36m-linux_x86_64.whl size=221839 sha256=a036de23030205955ccd2cad7d81dd57780f5af7db1fd9433d3dd13aa5f1830e\n",
      "  Stored in directory: /root/.cache/pip/wheels/eb/ba/a3/9af9f326ed0d75a4540378af64a05a0e42be39d9b8513f3aea\n",
      "  Building wheel for sacremoses (setup.py) ... \u001b[?25l\u001b[?25hdone\n",
      "  Created wheel for sacremoses: filename=sacremoses-0.0.43-cp36-none-any.whl size=893260 sha256=9dd52533e591a868f79b0ad0970c0420f49e73ae58912f6fa3f3b1c376bc8ba0\n",
      "  Stored in directory: /root/.cache/pip/wheels/29/3c/fd/7ce5c3f0666dab31a50123635e6fb5e19ceb42ce38d4e58f45\n",
      "Successfully built spacy-transformers torchcontrib ftfy thinc-gpu-ops sacremoses\n",
      "Installing collected packages: sentencepiece, sacremoses, transformers, torchcontrib, ftfy, dataclasses, thinc-gpu-ops, cupy-cuda100, spacy-transformers\n",
      "  Found existing installation: dataclasses 0.7\n",
      "    Uninstalling dataclasses-0.7:\n",
      "      Successfully uninstalled dataclasses-0.7\n",
      "Successfully installed cupy-cuda100-8.0.0b3 dataclasses-0.6 ftfy-5.7 sacremoses-0.0.43 sentencepiece-0.1.91 spacy-transformers-0.5.1 thinc-gpu-ops-0.0.4 torchcontrib-0.0.2 transformers-2.0.0\n",
      "Collecting gputil\n",
      "  Downloading https://files.pythonhosted.org/packages/ed/0e/5c61eedde9f6c87713e89d794f01e378cfd9565847d4576fa627d758c554/GPUtil-1.4.0.tar.gz\n",
      "Building wheels for collected packages: gputil\n",
      "  Building wheel for gputil (setup.py) ... \u001b[?25l\u001b[?25hdone\n",
      "  Created wheel for gputil: filename=GPUtil-1.4.0-cp36-none-any.whl size=7413 sha256=fed1eba03296c9cf5f085324e68245ecfd1693599dfd2833a109f446628e32b3\n",
      "  Stored in directory: /root/.cache/pip/wheels/3d/77/07/80562de4bb0786e5ea186911a2c831fdd0018bda69beab71fd\n",
      "Successfully built gputil\n",
      "Installing collected packages: gputil\n",
      "Successfully installed gputil-1.4.0\n"
     ]
    }
   ],
   "source": [
    "!pip install spacy-transformers[cuda100]==0.5.1\n",
    "!pip install gputil"
   ]
  },
  {
   "cell_type": "code",
   "execution_count": null,
   "metadata": {
    "colab": {
     "base_uri": "https://localhost:8080/",
     "height": 275
    },
    "colab_type": "code",
    "id": "9l2vFR6I8UXg",
    "outputId": "dc645ceb-998c-4597-a2ad-2c028ac9dd98"
   },
   "outputs": [
    {
     "name": "stderr",
     "output_type": "stream",
     "text": [
      "/usr/local/lib/python3.6/dist-packages/statsmodels/tools/_testing.py:19: FutureWarning: pandas.util.testing is deprecated. Use the functions in the public API at pandas.testing instead.\n",
      "  import pandas.util.testing as tm\n",
      "Using TensorFlow backend.\n"
     ]
    },
    {
     "name": "stdout",
     "output_type": "stream",
     "text": [
      "Go to this URL in a browser: https://accounts.google.com/o/oauth2/auth?client_id=947318989803-6bn6qk8qdgf4n4g3pfee6491hc0brc4i.apps.googleusercontent.com&redirect_uri=urn%3aietf%3awg%3aoauth%3a2.0%3aoob&response_type=code&scope=email%20https%3a%2f%2fwww.googleapis.com%2fauth%2fdocs.test%20https%3a%2f%2fwww.googleapis.com%2fauth%2fdrive%20https%3a%2f%2fwww.googleapis.com%2fauth%2fdrive.photos.readonly%20https%3a%2f%2fwww.googleapis.com%2fauth%2fpeopleapi.readonly\n",
      "\n",
      "Enter your authorization code:\n",
      "··········\n",
      "Mounted at /content/drive\n",
      "Found GPU at: /device:GPU:0\n",
      "Using GPU!\n",
      "GPU Usage\n",
      "| ID | GPU | MEM |\n",
      "------------------\n",
      "|  0 |  0% |  2% |\n"
     ]
    }
   ],
   "source": [
    "%tensorflow_version 2.x\n",
    "import re\n",
    "import os\n",
    "import spacy\n",
    "import pathlib\n",
    "import pandas as pd\n",
    "import numpy as np\n",
    "import matplotlib.pyplot as plt\n",
    "import seaborn as sns\n",
    "\n",
    "import GPUtil\n",
    "from spacy.tokenizer import Tokenizer\n",
    "from spacy.util import compile_prefix_regex, compile_infix_regex, compile_suffix_regex\n",
    "from spacy.attrs import ORTH, NORM\n",
    "\n",
    "from keras.preprocessing.text import Tokenizer as KerasTokenizer\n",
    "from keras.preprocessing.sequence import pad_sequences\n",
    "\n",
    "import tensorflow as tf\n",
    "from tensorflow.keras.optimizers import SGD\n",
    "from tensorflow.keras.callbacks import EarlyStopping\n",
    "from tensorflow.keras.models import Sequential\n",
    "from tensorflow.keras.layers import Embedding ,LSTM, Dense, Dropout, Bidirectional\n",
    "from tensorflow.keras.utils import to_categorical\n",
    "\n",
    "from sklearn import preprocessing\n",
    "from sklearn.model_selection import train_test_split\n",
    "from sklearn.metrics import classification_report, accuracy_score, confusion_matrix\n",
    "\n",
    "from google.colab import drive\n",
    "\n",
    "drive.mount('/content/drive')\n",
    "__CWDIR__ = pathlib.Path.cwd()\n",
    "DATASET_DIR = __CWDIR__.joinpath('drive').joinpath('My Drive').joinpath('Colab_Files').joinpath('amazon-product-reviews')\n",
    "\n",
    "device_name = tf.test.gpu_device_name()\n",
    "if device_name != '/device:GPU:0':\n",
    "    raise SystemError('GPU device not found')\n",
    "print('Found GPU at: {}'.format(device_name))\n",
    "\n",
    "GPU = tf.device('/device:GPU:0')\n",
    "\n",
    "is_using_gpu = spacy.prefer_gpu()\n",
    "if is_using_gpu:\n",
    "    print(\"Using GPU!\")\n",
    "    print(\"GPU Usage\")\n",
    "    GPUtil.showUtilization()"
   ]
  },
  {
   "cell_type": "code",
   "execution_count": null,
   "metadata": {
    "colab": {},
    "colab_type": "code",
    "id": "k9NNDZL0f2Me"
   },
   "outputs": [],
   "source": [
    "def loadDataHandler(path:str, use_col=None):\n",
    "    rdata = None\n",
    "    if use_col and isinstance(use_col, list):\n",
    "        rdata = pd.read_csv(path, usecols=use_col)\n",
    "    elif not use_col:\n",
    "        rdata = pd.read_csv(path)\n",
    "    return rdata\n",
    "\n",
    "def barChartsPlot(dict_, title=None):\n",
    "    fig = plt.figure()\n",
    "    ax = fig.add_axes([0,0,1,1])\n",
    "    type_ = list(dict_.keys())\n",
    "    values_ = list(dict_.values())\n",
    "    ax.bar(type_,values_)\n",
    "    plt.title(title)\n",
    "    return plt\n",
    "\n",
    "sample_data_1 = DATASET_DIR.joinpath('Datafiniti_Amazon_Consumer_Reviews_of_Amazon_Products.csv')\n",
    "sample_data_2 = DATASET_DIR.joinpath('Datafiniti_Amazon_Consumer_Reviews_of_Amazon_Products_May19.csv')\n",
    "filter_col = ['reviews.title', 'reviews.text', 'reviews.rating', 'categories', 'primaryCategories']\n",
    "# filter_col = None\n",
    "data_1 = loadDataHandler(sample_data_1, use_col=filter_col)\n",
    "data_2 = loadDataHandler(sample_data_2, use_col=filter_col)\n",
    "data = pd.concat([data_1, data_2], axis=0).reset_index(drop=True)"
   ]
  },
  {
   "cell_type": "code",
   "execution_count": null,
   "metadata": {
    "colab": {
     "base_uri": "https://localhost:8080/",
     "height": 623
    },
    "colab_type": "code",
    "id": "zoCntWjVkPqY",
    "outputId": "b9cbb93f-5425-4d60-c082-9e5b3ee852e1"
   },
   "outputs": [
    {
     "data": {
      "text/html": [
       "<div>\n",
       "<style scoped>\n",
       "    .dataframe tbody tr th:only-of-type {\n",
       "        vertical-align: middle;\n",
       "    }\n",
       "\n",
       "    .dataframe tbody tr th {\n",
       "        vertical-align: top;\n",
       "    }\n",
       "\n",
       "    .dataframe thead th {\n",
       "        text-align: right;\n",
       "    }\n",
       "</style>\n",
       "<table border=\"1\" class=\"dataframe\">\n",
       "  <thead>\n",
       "    <tr style=\"text-align: right;\">\n",
       "      <th></th>\n",
       "      <th>categories</th>\n",
       "      <th>primary_categories</th>\n",
       "      <th>reviews_rating</th>\n",
       "      <th>reviews_text</th>\n",
       "      <th>reviews_title</th>\n",
       "      <th>pos/neg</th>\n",
       "    </tr>\n",
       "  </thead>\n",
       "  <tbody>\n",
       "    <tr>\n",
       "      <th>0</th>\n",
       "      <td>Computers,Electronics Features,Tablets,Electro...</td>\n",
       "      <td>Electronics</td>\n",
       "      <td>3</td>\n",
       "      <td>I thought it would be as big as small paper bu...</td>\n",
       "      <td>Too small</td>\n",
       "      <td>neu</td>\n",
       "    </tr>\n",
       "    <tr>\n",
       "      <th>1</th>\n",
       "      <td>Computers,Electronics Features,Tablets,Electro...</td>\n",
       "      <td>Electronics</td>\n",
       "      <td>5</td>\n",
       "      <td>This kindle is light and easy to use especiall...</td>\n",
       "      <td>Great light reader. Easy to use at the beach</td>\n",
       "      <td>pos</td>\n",
       "    </tr>\n",
       "    <tr>\n",
       "      <th>2</th>\n",
       "      <td>Computers,Electronics Features,Tablets,Electro...</td>\n",
       "      <td>Electronics</td>\n",
       "      <td>4</td>\n",
       "      <td>Didnt know how much i'd use a kindle so went f...</td>\n",
       "      <td>Great for the price</td>\n",
       "      <td>pos</td>\n",
       "    </tr>\n",
       "    <tr>\n",
       "      <th>3</th>\n",
       "      <td>Computers,Electronics Features,Tablets,Electro...</td>\n",
       "      <td>Electronics</td>\n",
       "      <td>5</td>\n",
       "      <td>I am 100 happy with my purchase. I caught it o...</td>\n",
       "      <td>A Great Buy</td>\n",
       "      <td>pos</td>\n",
       "    </tr>\n",
       "    <tr>\n",
       "      <th>4</th>\n",
       "      <td>Computers,Electronics Features,Tablets,Electro...</td>\n",
       "      <td>Electronics</td>\n",
       "      <td>5</td>\n",
       "      <td>Solid entry level Kindle. Great for kids. Gift...</td>\n",
       "      <td>Solid entry-level Kindle. Great for kids</td>\n",
       "      <td>pos</td>\n",
       "    </tr>\n",
       "    <tr>\n",
       "      <th>...</th>\n",
       "      <td>...</td>\n",
       "      <td>...</td>\n",
       "      <td>...</td>\n",
       "      <td>...</td>\n",
       "      <td>...</td>\n",
       "      <td>...</td>\n",
       "    </tr>\n",
       "    <tr>\n",
       "      <th>33327</th>\n",
       "      <td>Fire Tablets,Tablets,All Tablets,Amazon Tablet...</td>\n",
       "      <td>Electronics</td>\n",
       "      <td>5</td>\n",
       "      <td>I got 2 of these for my 8 yr old twins. My 11 ...</td>\n",
       "      <td>Xmas gift</td>\n",
       "      <td>pos</td>\n",
       "    </tr>\n",
       "    <tr>\n",
       "      <th>33328</th>\n",
       "      <td>Fire Tablets,Tablets,All Tablets,Amazon Tablet...</td>\n",
       "      <td>Electronics</td>\n",
       "      <td>4</td>\n",
       "      <td>I bought this for my niece for a Christmas gif...</td>\n",
       "      <td>yes it is a great tablet.</td>\n",
       "      <td>pos</td>\n",
       "    </tr>\n",
       "    <tr>\n",
       "      <th>33329</th>\n",
       "      <td>Fire Tablets,Tablets,All Tablets,Amazon Tablet...</td>\n",
       "      <td>Electronics</td>\n",
       "      <td>5</td>\n",
       "      <td>Very nice for light internet browsing, keeping...</td>\n",
       "      <td>You get a lot for the price!</td>\n",
       "      <td>pos</td>\n",
       "    </tr>\n",
       "    <tr>\n",
       "      <th>33330</th>\n",
       "      <td>Fire Tablets,Tablets,All Tablets,Amazon Tablet...</td>\n",
       "      <td>Electronics</td>\n",
       "      <td>5</td>\n",
       "      <td>This Tablet does absolutely everything I want!...</td>\n",
       "      <td>You get the entire World for less than $100!</td>\n",
       "      <td>pos</td>\n",
       "    </tr>\n",
       "    <tr>\n",
       "      <th>33331</th>\n",
       "      <td>Fire Tablets,Tablets,All Tablets,Amazon Tablet...</td>\n",
       "      <td>Electronics</td>\n",
       "      <td>4</td>\n",
       "      <td>At ninety dollars, the expectionations are low...</td>\n",
       "      <td>You get what your paying for</td>\n",
       "      <td>pos</td>\n",
       "    </tr>\n",
       "  </tbody>\n",
       "</table>\n",
       "<p>33332 rows × 6 columns</p>\n",
       "</div>"
      ],
      "text/plain": [
       "                                              categories  ... pos/neg\n",
       "0      Computers,Electronics Features,Tablets,Electro...  ...     neu\n",
       "1      Computers,Electronics Features,Tablets,Electro...  ...     pos\n",
       "2      Computers,Electronics Features,Tablets,Electro...  ...     pos\n",
       "3      Computers,Electronics Features,Tablets,Electro...  ...     pos\n",
       "4      Computers,Electronics Features,Tablets,Electro...  ...     pos\n",
       "...                                                  ...  ...     ...\n",
       "33327  Fire Tablets,Tablets,All Tablets,Amazon Tablet...  ...     pos\n",
       "33328  Fire Tablets,Tablets,All Tablets,Amazon Tablet...  ...     pos\n",
       "33329  Fire Tablets,Tablets,All Tablets,Amazon Tablet...  ...     pos\n",
       "33330  Fire Tablets,Tablets,All Tablets,Amazon Tablet...  ...     pos\n",
       "33331  Fire Tablets,Tablets,All Tablets,Amazon Tablet...  ...     pos\n",
       "\n",
       "[33332 rows x 6 columns]"
      ]
     },
     "execution_count": 4,
     "metadata": {
      "tags": []
     },
     "output_type": "execute_result"
    }
   ],
   "source": [
    "def ratingRelabel(series:pd.Series):\n",
    "    empty_np = np.zeros(len(series), dtype='<U3')\n",
    "    for idx, i in enumerate(data['reviews.rating']):\n",
    "        if i > 3: empty_np[idx] = 'pos'\n",
    "        elif i == 3: empty_np[idx] = 'neu'\n",
    "        else: empty_np[idx] = 'neg'\n",
    "    return empty_np\n",
    "\n",
    "rating_np = ratingRelabel(data['reviews.rating'])\n",
    "data = pd.DataFrame(np.column_stack([data, rating_np]))\n",
    "data.columns = ['categories', 'primary_categories', 'reviews_rating', 'reviews_text', 'reviews_title', 'pos/neg']\n",
    "data "
   ]
  },
  {
   "cell_type": "code",
   "execution_count": null,
   "metadata": {
    "colab": {
     "base_uri": "https://localhost:8080/",
     "height": 721
    },
    "colab_type": "code",
    "id": "C3DL-CANkYE0",
    "outputId": "2823b165-b93b-4971-c2e2-ae010e2421ee"
   },
   "outputs": [
    {
     "name": "stdout",
     "output_type": "stream",
     "text": [
      "{3: 1403, 5: 23375, 4: 6856, 1: 1028, 2: 670}\n"
     ]
    },
    {
     "data": {
      "image/png": "[encoded data removed]",
      "text/plain": [
       "<Figure size 432x288 with 1 Axes>"
      ]
     },
     "metadata": {
      "needs_background": "light",
      "tags": []
     },
     "output_type": "display_data"
    },
    {
     "name": "stdout",
     "output_type": "stream",
     "text": [
      "{'neu': 1403, 'pos': 30231, 'neg': 1698}\n"
     ]
    },
    {
     "data": {
      "image/png": "[encoded data removed]",
      "text/plain": [
       "<Figure size 432x288 with 1 Axes>"
      ]
     },
     "metadata": {
      "needs_background": "light",
      "tags": []
     },
     "output_type": "display_data"
    }
   ],
   "source": [
    "rating_dict = {}\n",
    "for i in data['reviews_rating']:\n",
    "    if i not in rating_dict:\n",
    "        rating_dict[i] = 0\n",
    "    rating_dict[i]+=1    \n",
    "plt = barChartsPlot(rating_dict, title='Numbers of Rating')\n",
    "print(rating_dict)\n",
    "plt.show()\n",
    "\n",
    "classes = {}\n",
    "for i in data['pos/neg']:\n",
    "    if i not in classes:\n",
    "        classes[i] = 0\n",
    "    classes[i]+=1    \n",
    "plt = barChartsPlot(classes, title='Numbers of Classes')\n",
    "print(classes)\n",
    "plt.show()"
   ]
  },
  {
   "cell_type": "code",
   "execution_count": null,
   "metadata": {
    "colab": {
     "base_uri": "https://localhost:8080/",
     "height": 34
    },
    "colab_type": "code",
    "id": "aL5VuRpDkurH",
    "outputId": "f4b1dad4-2fa8-4cd9-9f76-58ef79cbcb46"
   },
   "outputs": [
    {
     "name": "stdout",
     "output_type": "stream",
     "text": [
      "pos:30231, neu:1403, neg:1698\n"
     ]
    }
   ],
   "source": [
    "pos_dataset = data.loc[data['pos/neg'] == 'pos']\n",
    "neu_dataset = data.loc[data['pos/neg'] == 'neu']\n",
    "neg_dataset = data.loc[data['pos/neg'] == 'neg']\n",
    "print(f\"pos:{len(pos_dataset)}, neu:{len(neu_dataset)}, neg:{len(neg_dataset)}\")\n",
    "\n",
    "pos_dataset = pos_dataset[:3000]\n",
    "neu_dataset = neu_dataset[:1400]\n",
    "neg_dataset = neg_dataset[:1600]\n",
    "dataset = pd.concat([pos_dataset, neu_dataset, neg_dataset], axis=0).reset_index(drop=True)"
   ]
  },
  {
   "cell_type": "code",
   "execution_count": null,
   "metadata": {
    "colab": {
     "base_uri": "https://localhost:8080/",
     "height": 691
    },
    "colab_type": "code",
    "id": "8YnnNkm9ltlv",
    "outputId": "04fd630d-45da-41bb-da92-36c85b2d4433"
   },
   "outputs": [
    {
     "data": {
      "text/html": [
       "<div>\n",
       "<style scoped>\n",
       "    .dataframe tbody tr th:only-of-type {\n",
       "        vertical-align: middle;\n",
       "    }\n",
       "\n",
       "    .dataframe tbody tr th {\n",
       "        vertical-align: top;\n",
       "    }\n",
       "\n",
       "    .dataframe thead th {\n",
       "        text-align: right;\n",
       "    }\n",
       "</style>\n",
       "<table border=\"1\" class=\"dataframe\">\n",
       "  <thead>\n",
       "    <tr style=\"text-align: right;\">\n",
       "      <th></th>\n",
       "      <th>categories</th>\n",
       "      <th>primary_categories</th>\n",
       "      <th>reviews_rating</th>\n",
       "      <th>reviews_text</th>\n",
       "      <th>reviews_title</th>\n",
       "      <th>pos/neg</th>\n",
       "    </tr>\n",
       "  </thead>\n",
       "  <tbody>\n",
       "    <tr>\n",
       "      <th>0</th>\n",
       "      <td>Computers,Electronics Features,Tablets,Electro...</td>\n",
       "      <td>Electronics</td>\n",
       "      <td>5</td>\n",
       "      <td>This kindle is light and easy to use especiall...</td>\n",
       "      <td>Great light reader. Easy to use at the beach</td>\n",
       "      <td>pos</td>\n",
       "    </tr>\n",
       "    <tr>\n",
       "      <th>1</th>\n",
       "      <td>Computers,Electronics Features,Tablets,Electro...</td>\n",
       "      <td>Electronics</td>\n",
       "      <td>4</td>\n",
       "      <td>Didnt know how much i'd use a kindle so went f...</td>\n",
       "      <td>Great for the price</td>\n",
       "      <td>pos</td>\n",
       "    </tr>\n",
       "    <tr>\n",
       "      <th>2</th>\n",
       "      <td>Computers,Electronics Features,Tablets,Electro...</td>\n",
       "      <td>Electronics</td>\n",
       "      <td>5</td>\n",
       "      <td>I am 100 happy with my purchase. I caught it o...</td>\n",
       "      <td>A Great Buy</td>\n",
       "      <td>pos</td>\n",
       "    </tr>\n",
       "    <tr>\n",
       "      <th>3</th>\n",
       "      <td>Computers,Electronics Features,Tablets,Electro...</td>\n",
       "      <td>Electronics</td>\n",
       "      <td>5</td>\n",
       "      <td>Solid entry level Kindle. Great for kids. Gift...</td>\n",
       "      <td>Solid entry-level Kindle. Great for kids</td>\n",
       "      <td>pos</td>\n",
       "    </tr>\n",
       "    <tr>\n",
       "      <th>4</th>\n",
       "      <td>Computers,Electronics Features,Tablets,Electro...</td>\n",
       "      <td>Electronics</td>\n",
       "      <td>5</td>\n",
       "      <td>This make an excellent ebook reader. Don't exp...</td>\n",
       "      <td>Good ebook</td>\n",
       "      <td>pos</td>\n",
       "    </tr>\n",
       "    <tr>\n",
       "      <th>...</th>\n",
       "      <td>...</td>\n",
       "      <td>...</td>\n",
       "      <td>...</td>\n",
       "      <td>...</td>\n",
       "      <td>...</td>\n",
       "      <td>...</td>\n",
       "    </tr>\n",
       "    <tr>\n",
       "      <th>5995</th>\n",
       "      <td>Computers,Fire Tablets,Electronics Features,Co...</td>\n",
       "      <td>Electronics</td>\n",
       "      <td>1</td>\n",
       "      <td>did not power up...at all. I am so happy that ...</td>\n",
       "      <td>send back</td>\n",
       "      <td>neg</td>\n",
       "    </tr>\n",
       "    <tr>\n",
       "      <th>5996</th>\n",
       "      <td>Computers,Fire Tablets,Electronics Features,Co...</td>\n",
       "      <td>Electronics</td>\n",
       "      <td>2</td>\n",
       "      <td>After owning the kids Samsung, this seems conf...</td>\n",
       "      <td>so so</td>\n",
       "      <td>neg</td>\n",
       "    </tr>\n",
       "    <tr>\n",
       "      <th>5997</th>\n",
       "      <td>Computers,Fire Tablets,Electronics Features,Co...</td>\n",
       "      <td>Electronics</td>\n",
       "      <td>1</td>\n",
       "      <td>It takes forever to download apps. I'm returni...</td>\n",
       "      <td>Super slow</td>\n",
       "      <td>neg</td>\n",
       "    </tr>\n",
       "    <tr>\n",
       "      <th>5998</th>\n",
       "      <td>Computers,Fire Tablets,Electronics Features,Co...</td>\n",
       "      <td>Electronics</td>\n",
       "      <td>1</td>\n",
       "      <td>The touch and loading the content is very bad,...</td>\n",
       "      <td>The tablet not so great as mentioned</td>\n",
       "      <td>neg</td>\n",
       "    </tr>\n",
       "    <tr>\n",
       "      <th>5999</th>\n",
       "      <td>Computers,Fire Tablets,Electronics Features,Co...</td>\n",
       "      <td>Electronics</td>\n",
       "      <td>2</td>\n",
       "      <td>Touch response is not so good. so my kid refus...</td>\n",
       "      <td>Touch response is not good</td>\n",
       "      <td>neg</td>\n",
       "    </tr>\n",
       "  </tbody>\n",
       "</table>\n",
       "<p>6000 rows × 6 columns</p>\n",
       "</div>"
      ],
      "text/plain": [
       "                                             categories  ... pos/neg\n",
       "0     Computers,Electronics Features,Tablets,Electro...  ...     pos\n",
       "1     Computers,Electronics Features,Tablets,Electro...  ...     pos\n",
       "2     Computers,Electronics Features,Tablets,Electro...  ...     pos\n",
       "3     Computers,Electronics Features,Tablets,Electro...  ...     pos\n",
       "4     Computers,Electronics Features,Tablets,Electro...  ...     pos\n",
       "...                                                 ...  ...     ...\n",
       "5995  Computers,Fire Tablets,Electronics Features,Co...  ...     neg\n",
       "5996  Computers,Fire Tablets,Electronics Features,Co...  ...     neg\n",
       "5997  Computers,Fire Tablets,Electronics Features,Co...  ...     neg\n",
       "5998  Computers,Fire Tablets,Electronics Features,Co...  ...     neg\n",
       "5999  Computers,Fire Tablets,Electronics Features,Co...  ...     neg\n",
       "\n",
       "[6000 rows x 6 columns]"
      ]
     },
     "execution_count": 7,
     "metadata": {
      "tags": []
     },
     "output_type": "execute_result"
    }
   ],
   "source": [
    "dataset"
   ]
  },
  {
   "cell_type": "code",
   "execution_count": null,
   "metadata": {
    "colab": {},
    "colab_type": "code",
    "id": "Y8JbKKQhl77x"
   },
   "outputs": [],
   "source": [
    "x = dataset['reviews_text'].to_list()\n",
    "y = dataset['pos/neg'].to_list()"
   ]
  },
  {
   "cell_type": "code",
   "execution_count": null,
   "metadata": {
    "colab": {
     "base_uri": "https://localhost:8080/",
     "height": 34
    },
    "colab_type": "code",
    "id": "HiNvuUsCmbF6",
    "outputId": "1d5985ef-5805-4c71-90cb-04de063b47d7"
   },
   "outputs": [
    {
     "name": "stdout",
     "output_type": "stream",
     "text": [
      "Pipe names : ['tagger', 'custom_seg', 'parser', 'ner']\n"
     ]
    }
   ],
   "source": [
    "special_case = {\n",
    "    \"couldn't\" : [{ORTH: \"could\"}, {ORTH: \"n't\", NORM: \"not\"}],\n",
    "    \"don't\" : [{ORTH: \"do\"}, {ORTH: \"n't\", NORM: \"not\"}],\n",
    "    \"wasn't\" : [{ORTH: \"was\"}, {ORTH: \"n't\", NORM: \"not\"}],\n",
    "    \"isn't\" : [{ORTH: \"is\"}, {ORTH: \"n't\", NORM: \"not\"}],\n",
    "    \"it's\" : [{ORTH: \"it\"}, {ORTH: \"'s\", NORM: \"is\"}],\n",
    "    \"wouldn't\": [{ORTH: \"would\"}, {ORTH: \"n't\", NORM: \"not\"}],\n",
    "}\n",
    " \n",
    "class Parser:\n",
    "    def __init__(self, sent_segmenter=True, custom_tokenize=True):\n",
    "        spacy.prefer_gpu()\n",
    "        self.pre_model = spacy.load(\"en_core_web_sm\")\n",
    "        \n",
    "        if sent_segmenter:\n",
    "            self.boundary = re.compile('^[0-9]$')\n",
    "            self.pre_model.add_pipe(self.custom_seg, before='parser')\n",
    "        \n",
    "        if custom_tokenize:\n",
    "            self.pre_model.tokenizer = self.custom_tokenizer(self.pre_model)\n",
    "            \n",
    "            for k,v in special_case.items():\n",
    "                self.pre_model.tokenizer.add_special_case(k, v)\n",
    "            \n",
    "        print(f\"Pipe names : {self.pre_model.pipe_names}\")\n",
    "    \n",
    "    def custom_tokenizer(self, nlp_model):\n",
    "        infix_re = re.compile(r'''[.\\,\\?\\:\\;\\...\\‘\\’\\`\\“\\”\\\"\\'~]''')\n",
    "        prefix_re = compile_prefix_regex(self.pre_model.Defaults.prefixes)\n",
    "        suffix_re = compile_suffix_regex(self.pre_model.Defaults.suffixes)\n",
    "        \n",
    "        return Tokenizer(self.pre_model.vocab, prefix_search=prefix_re.search,\n",
    "                                               suffix_search=suffix_re.search,\n",
    "                                               infix_finditer=infix_re.finditer,\n",
    "                                               token_match=None)\n",
    " \n",
    "    def custom_seg(self, doc):\n",
    "        prev = doc[0].text\n",
    "        length = len(doc)\n",
    "        for index, token in enumerate(doc):\n",
    "            if (token.text == '.' and self.boundary.match(prev) and index!=(length - 1)):\n",
    "                doc[index+1].sent_start = False\n",
    "            prev = token.text\n",
    "        return doc\n",
    "    \n",
    "    def sent_to_doc(self, sent):\n",
    "        self.doc = self.pre_model(sent)\n",
    "    \n",
    "    def token_normalizer(self, token):\n",
    "        if(token == \"n't\"):\n",
    "            new_token = \"not\"\n",
    "        else:\n",
    "            new_token = token.lower()\n",
    "        return new_token\n",
    "    \n",
    "    def remove_punct(self):\n",
    "        if 'custom_seg' in self.pre_model.pipe_names:\n",
    "            rlist = []\n",
    "            for sent in (self.doc).sents:\n",
    "                temp_ = []\n",
    "                for token in sent:\n",
    "                    if token.pos_ == 'PUNCT':\n",
    "                        continue\n",
    "                    new_token = self.token_normalizer(token.text)\n",
    "                    temp_.append(new_token)\n",
    "                rlist.append(temp_)\n",
    "            return rlist\n",
    " \n",
    "parser_obj = Parser(sent_segmenter=True)"
   ]
  },
  {
   "cell_type": "code",
   "execution_count": null,
   "metadata": {
    "colab": {},
    "colab_type": "code",
    "id": "t12OHAe9med6"
   },
   "outputs": [],
   "source": [
    "X_list = []\n",
    "for idx, review in enumerate(x):\n",
    "    parser_obj.sent_to_doc(review)\n",
    "    parsed_list = parser_obj.remove_punct()\n",
    "    str_ = \"\"\n",
    "    for idx_, list_ in enumerate(parsed_list):\n",
    "        str_ += ' '.join(list_)\n",
    "        str_ += ' '\n",
    "    X_list.append(str_)\n",
    "#     if idx == 100:\n",
    "#         break"
   ]
  },
  {
   "cell_type": "code",
   "execution_count": null,
   "metadata": {
    "colab": {},
    "colab_type": "code",
    "id": "3ivm6Wm3p2mc"
   },
   "outputs": [],
   "source": [
    "X = X_list"
   ]
  },
  {
   "cell_type": "code",
   "execution_count": null,
   "metadata": {
    "colab": {
     "base_uri": "https://localhost:8080/",
     "height": 34
    },
    "colab_type": "code",
    "id": "6Pv5fVCEp8Fo",
    "outputId": "349b1039-f032-4f2b-cb64-e0947c3aa51f"
   },
   "outputs": [
    {
     "data": {
      "text/plain": [
       "(6000, 200)"
      ]
     },
     "execution_count": 12,
     "metadata": {
      "tags": []
     },
     "output_type": "execute_result"
    }
   ],
   "source": [
    "tk = KerasTokenizer(lower = True)\n",
    "tk.fit_on_texts(X)\n",
    "X_seq = tk.texts_to_sequences(X)\n",
    "X_pad = pad_sequences(X_seq, maxlen=200, padding='post')\n",
    "X_pad.shape"
   ]
  },
  {
   "cell_type": "code",
   "execution_count": null,
   "metadata": {
    "colab": {
     "base_uri": "https://localhost:8080/",
     "height": 34
    },
    "colab_type": "code",
    "id": "08ZFlSYrrW0K",
    "outputId": "bed07b93-ee3c-484c-d7e7-93206cc7c46a"
   },
   "outputs": [
    {
     "name": "stdout",
     "output_type": "stream",
     "text": [
      "(4500, 200) (1500, 200) (4500, 3) (1500, 3)\n"
     ]
    }
   ],
   "source": [
    "onehot = pd.get_dummies(y)\n",
    "target_labels = onehot.columns\n",
    "y = onehot.to_numpy()\n",
    "\n",
    "X_train, X_test, y_train, y_test = train_test_split(X_pad, y, test_size = 0.25, random_state = 1)\n",
    "print(X_train.shape, X_test.shape, y_train.shape, y_test.shape)"
   ]
  },
  {
   "cell_type": "code",
   "execution_count": null,
   "metadata": {
    "colab": {
     "base_uri": "https://localhost:8080/",
     "height": 496
    },
    "colab_type": "code",
    "id": "cLYFK17Uxnej",
    "outputId": "3bb5067f-204e-446d-e3db-b5d58e614ffc"
   },
   "outputs": [
    {
     "name": "stdout",
     "output_type": "stream",
     "text": [
      "WARNING:tensorflow:Layer lstm_1 will not use cuDNN kernel since it doesn't meet the cuDNN kernel criteria. It will use generic GPU kernel as fallback when running on GPU\n",
      "WARNING:tensorflow:Layer lstm_1 will not use cuDNN kernel since it doesn't meet the cuDNN kernel criteria. It will use generic GPU kernel as fallback when running on GPU\n",
      "WARNING:tensorflow:Layer lstm_1 will not use cuDNN kernel since it doesn't meet the cuDNN kernel criteria. It will use generic GPU kernel as fallback when running on GPU\n",
      "Model: \"sequential_1\"\n",
      "_________________________________________________________________\n",
      "Layer (type)                 Output Shape              Param #   \n",
      "=================================================================\n",
      "embedding_1 (Embedding)      (None, 200, 32)           205184    \n",
      "_________________________________________________________________\n",
      "bidirectional_1 (Bidirection (None, 400)               372800    \n",
      "_________________________________________________________________\n",
      "dense_1 (Dense)              (None, 3)                 1203      \n",
      "=================================================================\n",
      "Total params: 579,187\n",
      "Trainable params: 579,187\n",
      "Non-trainable params: 0\n",
      "_________________________________________________________________\n",
      "Epoch 1/5\n",
      "71/71 [==============================] - 96s 1s/step - loss: 0.9507 - accuracy: 0.5938 - val_loss: 0.7733 - val_accuracy: 0.6440\n",
      "Epoch 2/5\n",
      "71/71 [==============================] - 97s 1s/step - loss: 0.6373 - accuracy: 0.7096 - val_loss: 0.5497 - val_accuracy: 0.7413\n",
      "Epoch 3/5\n",
      "71/71 [==============================] - 96s 1s/step - loss: 0.4965 - accuracy: 0.7787 - val_loss: 0.5054 - val_accuracy: 0.7780\n",
      "Epoch 4/5\n",
      "71/71 [==============================] - 96s 1s/step - loss: 0.4148 - accuracy: 0.8264 - val_loss: 0.4898 - val_accuracy: 0.7980\n",
      "Epoch 5/5\n",
      "71/71 [==============================] - 96s 1s/step - loss: 0.3483 - accuracy: 0.8569 - val_loss: 0.4956 - val_accuracy: 0.7987\n"
     ]
    }
   ],
   "source": [
    "def get_optimizer():\n",
    "    opt = SGD(learning_rate=0.01, momentum=0.0, nesterov=False, name='SGD')\n",
    "    return opt\n",
    "\n",
    "vocabulary_size = len(tk.word_counts.keys())+1\n",
    "max_words = 200\n",
    "embedding_size = 32\n",
    "batch_size = 64\n",
    "model = Sequential()\n",
    "model.add(Embedding(vocabulary_size, embedding_size, input_length=max_words))\n",
    "# model.add(SpatialDropout1D(0.2))\n",
    "# model.add(LSTM(200, dropout=0.2, recurrent_dropout=0.2, return_sequences=True))\n",
    "# model.add(LSTM(200, return_sequences=True))  # returns a sequence of vectors of dimension 32\n",
    "model.add(Bidirectional(LSTM(200, dropout=0.2, recurrent_dropout=0.2)))\n",
    "model.add(Dense(3, activation='softmax'))\n",
    "model.compile(loss='categorical_crossentropy', optimizer='adam', metrics=['accuracy'])\n",
    "model.summary()\n",
    "\n",
    "with GPU:\n",
    "    model_history = model.fit(X_train, y_train, validation_data=(X_test, y_test), batch_size=batch_size, epochs=5, verbose=1)"
   ]
  },
  {
   "cell_type": "code",
   "execution_count": null,
   "metadata": {
    "colab": {
     "base_uri": "https://localhost:8080/",
     "height": 545
    },
    "colab_type": "code",
    "id": "sM8IpZ6BfpTK",
    "outputId": "a1de5d21-4a09-40b3-e1bf-da623f8bcef1"
   },
   "outputs": [
    {
     "data": {
      "image/png": "[encoded data removed]",
      "text/plain": [
       "<Figure size 432x288 with 1 Axes>"
      ]
     },
     "metadata": {
      "needs_background": "light",
      "tags": []
     },
     "output_type": "display_data"
    },
    {
     "data": {
      "image/png": "[encoded data removed]",
      "text/plain": [
       "<Figure size 432x288 with 1 Axes>"
      ]
     },
     "metadata": {
      "needs_background": "light",
      "tags": []
     },
     "output_type": "display_data"
    }
   ],
   "source": [
    "def validation_acc_loss_plot(model_history):\n",
    "    plt.title('Loss')\n",
    "    plt.plot(model_history.history['loss'], label='train')\n",
    "    plt.plot(model_history.history['val_loss'], label='test')\n",
    "    plt.legend()\n",
    "    plt.show();\n",
    "    plt.title('Accuracy')\n",
    "    plt.plot(model_history.history['accuracy'], label='train')\n",
    "    plt.plot(model_history.history['val_accuracy'], label='test')\n",
    "    plt.legend()\n",
    "    plt.show();\n",
    "\n",
    "validation_acc_loss_plot(model_history)"
   ]
  },
  {
   "cell_type": "code",
   "execution_count": null,
   "metadata": {
    "colab": {
     "base_uri": "https://localhost:8080/",
     "height": 595
    },
    "colab_type": "code",
    "id": "qR286d9BgvcY",
    "outputId": "7bc394da-c3ac-4f61-b0e7-74787dbcb855"
   },
   "outputs": [
    {
     "name": "stdout",
     "output_type": "stream",
     "text": [
      "47/47 [==============================] - 4s 86ms/step - loss: 0.4956 - accuracy: 0.7987\n",
      "Test Score: 0.4955897331237793\n",
      "Test Accuracy: 0.7986666560173035\n",
      "              precision    recall  f1-score   support\n",
      "\n",
      "         neg       0.71      0.78      0.74       363\n",
      "         neu       0.64      0.58      0.61       377\n",
      "         pos       0.92      0.92      0.92       760\n",
      "\n",
      "    accuracy                           0.80      1500\n",
      "   macro avg       0.76      0.76      0.76      1500\n",
      "weighted avg       0.80      0.80      0.80      1500\n",
      "\n"
     ]
    },
    {
     "data": {
      "image/png": "[encoded data removed]",
      "text/plain": [
       "<Figure size 720x432 with 2 Axes>"
      ]
     },
     "metadata": {
      "needs_background": "light",
      "tags": []
     },
     "output_type": "display_data"
    }
   ],
   "source": [
    "def plot_confusion_matrix(y_pred, y_test):\n",
    "    cm = confusion_matrix(y_test, y_pred)\n",
    "    index = target_labels\n",
    "    columns = target_labels\n",
    "    cm_df = pd.DataFrame(cm,index,columns)                      \n",
    "    plt.figure(figsize=(10,6))  \n",
    "    sns.heatmap(cm_df, annot=True)\n",
    "\n",
    "y_pred = model.predict(X_test)\n",
    "\n",
    "y_pred = [np.argmax(i) for i in y_pred]\n",
    "y_test_arr = [np.argmax(j) for j in y_test]\n",
    "\n",
    "score = model.evaluate(X_test, y_test, verbose=1)\n",
    "print(\"Test Score:\", score[0])\n",
    "print(\"Test Accuracy:\", score[1])\n",
    "print(classification_report(y_pred, y_test_arr, target_names=target_labels))\n",
    "plot_confusion_matrix(y_pred, y_test_arr)\n"
   ]
  }
 ],
 "metadata": {
  "accelerator": "GPU",
  "colab": {
   "collapsed_sections": [],
   "name": "NLP.ipynb",
   "provenance": [],
   "toc_visible": true
  },
  "kernelspec": {
   "display_name": "Python 3",
   "language": "python",
   "name": "python3"
  },
  "language_info": {
   "codemirror_mode": {
    "name": "ipython",
    "version": 3
   },
   "file_extension": ".py",
   "mimetype": "text/x-python",
   "name": "python",
   "nbconvert_exporter": "python",
   "pygments_lexer": "ipython3",
   "version": "3.7.4"
  }
 },
 "nbformat": 4,
 "nbformat_minor": 1
}
